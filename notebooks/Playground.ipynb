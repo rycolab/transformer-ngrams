{
 "cells": [
  {
   "cell_type": "code",
   "execution_count": 1,
   "metadata": {},
   "outputs": [],
   "source": [
    "from math import log\n",
    "import random\n",
    "\n",
    "import numpy as np\n",
    "np.set_printoptions(suppress=True)\n",
    "\n",
    "from ngrams.ngram.random import random_ngram\n",
    "# from ngrams.transform.single import NgramTransform\n",
    "# from ngrams.transform.heads import NgramTransform\n",
    "from ngrams.transform.layers import NgramTransform"
   ]
  },
  {
   "cell_type": "code",
   "execution_count": 2,
   "metadata": {},
   "outputs": [],
   "source": [
    "n = 3"
   ]
  },
  {
   "cell_type": "code",
   "execution_count": 3,
   "metadata": {},
   "outputs": [],
   "source": [
    "A = random_ngram(\"abcdef\", n, seed=1)"
   ]
  },
  {
   "cell_type": "code",
   "execution_count": 4,
   "metadata": {},
   "outputs": [],
   "source": [
    "# A"
   ]
  },
  {
   "cell_type": "code",
   "execution_count": 5,
   "metadata": {},
   "outputs": [
    {
     "name": "stdout",
     "output_type": "stream",
     "text": [
      "-19.026972582255024\n",
      "-19.026972582255024\n",
      "\n",
      "-16.990397331675837\n",
      "-16.990397331675837\n",
      "\n",
      "-19.65137563781321\n",
      "-19.65137563781321\n",
      "\n",
      "-41.21783555238414\n",
      "-41.217835552384145\n",
      "\n",
      "-48.577584148237115\n",
      "-48.577584148237115\n",
      "\n",
      "-15.271668439972537\n",
      "-15.271668439972537\n",
      "\n",
      "-20.176581972068043\n",
      "-20.17658197206804\n",
      "\n",
      "-39.63426665625586\n",
      "-39.63426665625587\n",
      "\n",
      "-8.833770398849076\n",
      "-8.833770398849074\n",
      "\n",
      "-20.402039088060107\n",
      "-20.402039088060107\n",
      "\n",
      "-46.131478229269305\n",
      "-46.13147822926931\n",
      "\n",
      "-57.23620011549743\n",
      "-57.23620011549744\n",
      "\n",
      "-47.43299018138756\n",
      "-47.43299018138757\n",
      "\n",
      "-35.29698807323354\n",
      "-35.296988073233535\n",
      "\n",
      "-27.807577061213543\n",
      "-27.807577061213546\n",
      "\n",
      "-27.406483748016612\n",
      "-27.406483748016612\n",
      "\n",
      "-47.48816403453631\n",
      "-47.48816403453631\n",
      "\n",
      "-13.07398188348829\n",
      "-13.073981883488289\n",
      "\n",
      "-43.017323107846565\n",
      "-43.01732310784657\n",
      "\n",
      "-22.349078454423942\n",
      "-22.34907845442394\n",
      "\n"
     ]
    }
   ],
   "source": [
    "T = NgramTransform(A, n=n)\n",
    "\n",
    "# y = \"aaa\"\n",
    "# print(T.lm(y))\n",
    "# print(log(A(y)))\n",
    "\n",
    "for _ in range(20):\n",
    "    y = \"\".join(random.choice(\"ab\") for _ in range(random.choice(range(20))))\n",
    "    print(T.lm(y))\n",
    "    print(log(A(y)))\n",
    "    print()"
   ]
  },
  {
   "cell_type": "code",
   "execution_count": null,
   "metadata": {},
   "outputs": [],
   "source": []
  }
 ],
 "metadata": {
  "kernelspec": {
   "display_name": "Python 3 (ipykernel)",
   "language": "python",
   "name": "python3"
  },
  "language_info": {
   "codemirror_mode": {
    "name": "ipython",
    "version": 3
   },
   "file_extension": ".py",
   "mimetype": "text/x-python",
   "name": "python",
   "nbconvert_exporter": "python",
   "pygments_lexer": "ipython3",
   "version": "3.10.14"
  }
 },
 "nbformat": 4,
 "nbformat_minor": 4
}
