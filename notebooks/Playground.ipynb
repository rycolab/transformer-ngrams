{
 "cells": [
  {
   "cell_type": "code",
   "execution_count": 1,
   "metadata": {},
   "outputs": [],
   "source": [
    "from math import log\n",
    "import random\n",
    "\n",
    "import numpy as np\n",
    "np.set_printoptions(suppress=True)\n",
    "\n",
    "from ngrams.ngram.random import random_ngram\n",
    "from ngrams.transform.single import NgramTransform\n",
    "# from ngrams.transform.heads import NgramTransform\n",
    "# from ngrams.transform.layers import NgramTransform"
   ]
  },
  {
   "cell_type": "code",
   "execution_count": 2,
   "metadata": {},
   "outputs": [],
   "source": [
    "n = 3"
   ]
  },
  {
   "cell_type": "code",
   "execution_count": 3,
   "metadata": {},
   "outputs": [],
   "source": [
    "A = random_ngram(\"ab\", n, seed=1)"
   ]
  },
  {
   "cell_type": "code",
   "execution_count": 4,
   "metadata": {},
   "outputs": [],
   "source": [
    "# A"
   ]
  },
  {
   "cell_type": "code",
   "execution_count": 13,
   "metadata": {},
   "outputs": [
    {
     "name": "stdout",
     "output_type": "stream",
     "text": [
      "[[0.   0.   0.1  0.   1.   1.  ]\n",
      " [0.   0.   0.01 0.   1.   2.  ]]\n",
      "[0.    0.    0.055 0.   ]\n",
      "[[0.    0.    0.1   0.    1.    1.   ]\n",
      " [0.    0.    0.01  0.    1.    2.   ]\n",
      " [0.    0.001 0.    0.    1.    3.   ]]\n",
      "[0.     0.0005 0.005  0.    ]\n",
      "[[0.     0.     0.1    0.     1.     1.    ]\n",
      " [0.     0.     0.01   0.     1.     2.    ]\n",
      " [0.     0.001  0.     0.     1.     3.    ]\n",
      " [0.0001 0.     0.     0.     1.     4.    ]]\n",
      "[0.00005 0.0005  0.      0.     ]\n",
      "[[0.      0.      0.1     0.      1.      1.     ]\n",
      " [0.      0.      0.01    0.      1.      2.     ]\n",
      " [0.      0.001   0.      0.      1.      3.     ]\n",
      " [0.0001  0.      0.      0.      1.      4.     ]\n",
      " [0.      0.00001 0.      0.      1.      5.     ]]\n",
      "[0.00005  0.000005 0.       0.      ]\n",
      "-4.606599366073247\n",
      "-4.606599366073247\n"
     ]
    }
   ],
   "source": [
    "T = NgramTransform(A, n=n)\n",
    "\n",
    "y = \"aba\"\n",
    "print(T.lm(y))\n",
    "print(log(A(y)))\n",
    "\n",
    "# for _ in range(20):\n",
    "#     y = \"\".join(random.choice(\"ab\") for _ in range(random.choice(range(20))))\n",
    "#     print(T.lm(y))\n",
    "#     print(log(A(y)))\n",
    "#     print()"
   ]
  },
  {
   "cell_type": "code",
   "execution_count": 6,
   "metadata": {},
   "outputs": [],
   "source": [
    "Z = (1 - (1 / 10) ** (n - 1)) / (1 - 1 / 10)"
   ]
  },
  {
   "cell_type": "code",
   "execution_count": 7,
   "metadata": {},
   "outputs": [
    {
     "data": {
      "text/plain": [
       "1.0999999999999999"
      ]
     },
     "execution_count": 7,
     "metadata": {},
     "output_type": "execute_result"
    }
   ],
   "source": [
    "Z"
   ]
  },
  {
   "cell_type": "code",
   "execution_count": 14,
   "metadata": {},
   "outputs": [],
   "source": [
    "a = np.asarray([0, 0, 0.055, 0])\n",
    "a = np.asarray([0.0005, 0, 0.005, 0])\n",
    "a = np.asarray([0.00000005, 0.0000005, 0, 0])\n",
    "a = np.asarray([0.00005, 0, 0.000005, 0])"
   ]
  },
  {
   "cell_type": "code",
   "execution_count": 17,
   "metadata": {},
   "outputs": [
    {
     "data": {
      "text/plain": [
       "array([0.0001 , 0.     , 0.00001, 0.     ])"
      ]
     },
     "execution_count": 17,
     "metadata": {},
     "output_type": "execute_result"
    }
   ],
   "source": [
    "a * 2"
   ]
  },
  {
   "cell_type": "code",
   "execution_count": 19,
   "metadata": {},
   "outputs": [
    {
     "data": {
      "text/plain": [
       "array([0.1 , 0.  , 0.01, 0.  ])"
      ]
     },
     "execution_count": 19,
     "metadata": {},
     "output_type": "execute_result"
    }
   ],
   "source": [
    "a * 2 * 10**(4 + 1 - (n - 1))"
   ]
  },
  {
   "cell_type": "code",
   "execution_count": 10,
   "metadata": {},
   "outputs": [],
   "source": [
    "an = 0.000055"
   ]
  },
  {
   "cell_type": "code",
   "execution_count": 11,
   "metadata": {},
   "outputs": [
    {
     "data": {
      "text/plain": [
       "1.0999999999999999"
      ]
     },
     "execution_count": 11,
     "metadata": {},
     "output_type": "execute_result"
    }
   ],
   "source": [
    "Z / an * an"
   ]
  },
  {
   "cell_type": "code",
   "execution_count": 12,
   "metadata": {},
   "outputs": [
    {
     "data": {
      "text/plain": [
       "0.055"
      ]
     },
     "execution_count": 12,
     "metadata": {},
     "output_type": "execute_result"
    }
   ],
   "source": [
    "0.5 * (0.1 + 0.01)"
   ]
  },
  {
   "cell_type": "code",
   "execution_count": null,
   "metadata": {},
   "outputs": [],
   "source": []
  }
 ],
 "metadata": {
  "kernelspec": {
   "display_name": "Python 3 (ipykernel)",
   "language": "python",
   "name": "python3"
  },
  "language_info": {
   "codemirror_mode": {
    "name": "ipython",
    "version": 3
   },
   "file_extension": ".py",
   "mimetype": "text/x-python",
   "name": "python",
   "nbconvert_exporter": "python",
   "pygments_lexer": "ipython3",
   "version": "3.10.14"
  }
 },
 "nbformat": 4,
 "nbformat_minor": 4
}
